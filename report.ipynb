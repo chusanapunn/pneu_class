{
 "cells": [
  {
   "cell_type": "markdown",
   "metadata": {},
   "source": [
    "## 1st Trial"
   ]
  },
  {
   "cell_type": "code",
   "execution_count": 1,
   "metadata": {},
   "outputs": [
    {
     "name": "stdout",
     "output_type": "stream",
     "text": [
      "Covid19Net(\n",
      "  (layer1): Sequential(\n",
      "    (0): Conv2d(3, 16, kernel_size=(3, 3), stride=(1, 1))\n",
      "    (1): ReLU()\n",
      "    (2): MaxPool2d(kernel_size=2, stride=2, padding=0, dilation=1, ceil_mode=False)\n",
      "  )\n",
      "  (layer2): Sequential(\n",
      "    (0): Conv2d(16, 32, kernel_size=(4, 4), stride=(1, 1))\n",
      "    (1): ReLU()\n",
      "    (2): MaxPool2d(kernel_size=2, stride=2, padding=0, dilation=1, ceil_mode=False)\n",
      "  )\n",
      "  (fc): Linear(in_features=93312, out_features=2, bias=True)\n",
      ")\n",
      "ANET(\n",
      "  (layer1): Sequential(\n",
      "    (0): Conv2d(3, 16, kernel_size=(3, 3), stride=(1, 1))\n",
      "    (1): Dropout(p=0.1, inplace=False)\n",
      "    (2): ReLU()\n",
      "    (3): MaxPool2d(kernel_size=2, stride=2, padding=0, dilation=1, ceil_mode=False)\n",
      "  )\n",
      "  (layer2): Sequential(\n",
      "    (0): Conv2d(16, 32, kernel_size=(4, 4), stride=(1, 1))\n",
      "    (1): Dropout(p=0.1, inplace=False)\n",
      "    (2): ReLU()\n",
      "    (3): MaxPool2d(kernel_size=2, stride=2, padding=0, dilation=1, ceil_mode=False)\n",
      "  )\n",
      "  (fc): Linear(in_features=93312, out_features=2, bias=True)\n",
      ")\n",
      "####################\n",
      "Device used:  cuda\n",
      "####################\n"
     ]
    }
   ],
   "source": [
    "import torch\n",
    "import numpy as np\n",
    "\n",
    "import torchvision\n",
    "from torch.utils.data import DataLoader\n",
    "from torch.backends import mps\n",
    "import torch.optim as optim\n",
    "import matplotlib.pyplot as plt\n",
    "import torch.nn as nn \n",
    "from net_covid19 import Covid19Net\n",
    "from net_a import ANET\n",
    "import time\n",
    "\n",
    "\n",
    "def imshow(img, title=None):\n",
    "  ''' function to show image '''\n",
    "  plt.imshow(img.permute(1, 2, 0))\n",
    "  if title is not None:\n",
    "    plt.title(title)\n",
    "  plt.show()\n",
    "\n",
    "# setup some path variables\n",
    "project_path = './'\n",
    "data_path = project_path + 'data/Pneumonia/X-Ray_70-30/'\n",
    "\n",
    "# select device to run the computations on\n",
    "if mps.is_available(): # MAcOS with Metal support\n",
    "    device = torch.device('mps')\n",
    "elif torch.cuda.is_available(): # Nvidia GPU\n",
    "    device = torch.device('cuda')\n",
    "else: # CPU\n",
    "    device = torch.device('cpu')\n",
    "\n",
    "# device = torch.device('cpu') # uncomment this line to run on CPU\n",
    "print(20*\"#\")\n",
    "print(\"Device used: \", device)\n",
    "print(20*\"#\")"
   ]
  },
  {
   "cell_type": "code",
   "execution_count": 2,
   "metadata": {},
   "outputs": [
    {
     "name": "stdout",
     "output_type": "stream",
     "text": [
      "['Bacterial', 'Viral']\n",
      "Number of images in train set: 11318\n",
      "Number of images in test set: 4849\n",
      "Shape of image tensors: torch.Size([16, 3, 224, 224])\n",
      "Shape of label tensors: torch.Size([16])\n",
      "Bacterial, Viral, Viral, Bacterial, Viral, Bacterial, Viral, Viral, Viral, Bacterial, Viral, Bacterial, Viral, Bacterial, Bacterial, Bacterial\n",
      "['Bacterial', 'Viral', 'Viral', 'Bacterial', 'Viral', 'Bacterial', 'Viral', 'Viral', 'Viral', 'Bacterial', 'Viral', 'Bacterial', 'Viral', 'Bacterial', 'Bacterial', 'Bacterial']\n"
     ]
    }
   ],
   "source": [
    "\n",
    "# Define the transformations\n",
    "image_transform = torchvision.transforms.Compose([\n",
    "    torchvision.transforms.Resize((224, 224)),  # Resize the image to 224x224\n",
    "    torchvision.transforms.ToTensor() # Convert the image to a pytorch tensor\n",
    "])\n",
    "\n",
    "# Define train / test dataset\n",
    "train_dataset = torchvision.datasets.ImageFolder(data_path + 'train/', transform=image_transform)\n",
    "test_dataset = torchvision.datasets.ImageFolder(data_path + 'test/', transform=image_transform)\n",
    "\n",
    "# Check the classes labels\n",
    "class_labels = train_dataset.classes\n",
    "print(class_labels)\n",
    "\n",
    "# Check the number of samples in the train and test dataset\n",
    "print('Number of images in train set:', len(train_dataset))\n",
    "print('Number of images in test set:', len(test_dataset))\n",
    "\n",
    "# sample_idx = 240\n",
    "# sample_image, sample_label = train_dataset[sample_idx]\n",
    "# print(f'Image Shape: {sample_image.shape}')\n",
    "# print(f'Label: {class_labels[sample_label]}')\n",
    "\n",
    "# imshow(sample_image)\n",
    "# sample_image[0,:,:]\n",
    "\n",
    "batch_size = 16\n",
    "train_loader = DataLoader(train_dataset, batch_size=batch_size, shuffle=True, num_workers=0)\n",
    "test_loader = DataLoader(test_dataset, batch_size=batch_size, shuffle=False, num_workers=0)\n",
    "\n",
    "# get a batch of images and labels\n",
    "images, labels = next(iter(train_loader))\n",
    "print(f'Shape of image tensors: {images.shape}')\n",
    "print(f'Shape of label tensors: {labels.shape}')\n",
    "\n",
    "# Display the batch of images\n",
    "class_labels_string = ', '.join([class_labels[label] for label in labels]) # Create a string of class labels indexed by labels\n",
    "# imshow(torchvision.utils.make_grid(images), title = class_labels_string)\n",
    "# plt.title(class_labels_string)\n",
    "\n",
    "print(class_labels_string)\n",
    "print([class_labels[label] for label in labels])"
   ]
  },
  {
   "cell_type": "markdown",
   "metadata": {},
   "source": [
    "## Define Hyperparameter, loss function and Train."
   ]
  },
  {
   "cell_type": "code",
   "execution_count": 3,
   "metadata": {},
   "outputs": [
    {
     "name": "stdout",
     "output_type": "stream",
     "text": [
      "ANET(\n",
      "  (layer1): Sequential(\n",
      "    (0): Conv2d(3, 16, kernel_size=(3, 3), stride=(1, 1))\n",
      "    (1): Dropout(p=0.1, inplace=False)\n",
      "    (2): ReLU()\n",
      "    (3): MaxPool2d(kernel_size=2, stride=2, padding=0, dilation=1, ceil_mode=False)\n",
      "  )\n",
      "  (layer2): Sequential(\n",
      "    (0): Conv2d(16, 32, kernel_size=(4, 4), stride=(1, 1))\n",
      "    (1): Dropout(p=0.1, inplace=False)\n",
      "    (2): ReLU()\n",
      "    (3): MaxPool2d(kernel_size=2, stride=2, padding=0, dilation=1, ceil_mode=False)\n",
      "  )\n",
      "  (fc): Linear(in_features=93312, out_features=2, bias=True)\n",
      ")\n",
      "Epoch: 0, Loss: 399.6548824906349\n",
      "Epoch: 1, Loss: 346.01750464737415\n",
      "Epoch: 2, Loss: 302.21575167775154\n",
      "Epoch: 3, Loss: 259.43498834222555\n",
      "Epoch: 4, Loss: 208.40918816253543\n",
      "Epoch: 5, Loss: 172.20424986444414\n",
      "Epoch: 6, Loss: 127.58800270035863\n",
      "Epoch: 7, Loss: 97.52185415313579\n",
      "Epoch: 8, Loss: 67.39447806309909\n",
      "Epoch: 9, Loss: 45.39319611224346\n",
      "Epoch: 10, Loss: 28.45778526412323\n",
      "Epoch: 11, Loss: 27.792414737283252\n",
      "Epoch: 12, Loss: 26.881001187546644\n",
      "Epoch: 13, Loss: 15.648492250271374\n",
      "Epoch: 14, Loss: 30.57466786669829\n",
      "Epoch: 15, Loss: 13.89660891287349\n",
      "Epoch: 16, Loss: 4.326868692482094\n",
      "Epoch: 17, Loss: 1.3439095019202796\n",
      "Epoch: 18, Loss: 0.9199898705837768\n",
      "Epoch: 19, Loss: 0.7632777854341839\n",
      "Epoch: 20, Loss: 0.559057003673388\n",
      "Epoch: 21, Loss: 0.4754270041049722\n",
      "Epoch: 22, Loss: 0.4409235830726175\n",
      "Epoch: 23, Loss: 0.43335835376819887\n",
      "Epoch: 24, Loss: 0.34606346581949765\n",
      "Epoch: 25, Loss: 0.34818482125547234\n",
      "Epoch: 26, Loss: 0.28572399314680297\n",
      "Epoch: 27, Loss: 0.2724425125916241\n",
      "Epoch: 28, Loss: 0.29413456280121864\n",
      "Epoch: 29, Loss: 0.25018944029625345\n",
      "Epoch: 30, Loss: 0.2182523618726009\n",
      "Epoch: 31, Loss: 0.22311498823273723\n",
      "Epoch: 32, Loss: 0.20946827691250292\n",
      "Epoch: 33, Loss: 0.18326442378497632\n",
      "Epoch: 34, Loss: 0.17802543343202615\n",
      "Epoch: 35, Loss: 0.18147352067171596\n",
      "Epoch: 36, Loss: 0.17451941794496406\n",
      "Epoch: 37, Loss: 0.44977671899596317\n",
      "Epoch: 38, Loss: 0.18649405218639004\n",
      "Epoch: 39, Loss: 0.16552365601637575\n",
      "Training completed in 2939.211052417755 seconds\n",
      "Accuracy of the network on the 4849 test images: 99.13 %\n",
      "Training done on device: cuda\n"
     ]
    }
   ],
   "source": [
    "# Define the model\n",
    "# net = Covid19Net()\n",
    "net = ANET()\n",
    "print(net)\n",
    "\n",
    "net.to(device)\n",
    "\n",
    "criterion = torch.nn.CrossEntropyLoss()\n",
    "optimizer = optim.SGD(net.parameters(), lr=0.003, momentum=0.9)\n",
    "\n",
    "num_epochs = 40 # loop over the dataset multiple times\n",
    "\n",
    "e_ = np.arange(1,num_epochs+1,1)\n",
    "loss_ = []\n",
    "\n",
    "start_time = time.time()\n",
    "for epoch in range(num_epochs): # one epoch is a complete pass through the train dataset\n",
    "    epoch_loss = 0.0\n",
    "    for batch_index, data in enumerate(train_loader):\n",
    "        images, labels = data \n",
    "        images, labels = images.to(device), labels.to(device)\n",
    "\n",
    "\n",
    "        optimizer.zero_grad()\n",
    "        outputs = net(images)\n",
    "        # outputs = outputs[:,0]\n",
    "        # print(outputs.shape)\n",
    "        # print(labels.shape)\n",
    "        loss = criterion(outputs, labels)\n",
    "        loss.backward()\n",
    "        optimizer.step()\n",
    "\n",
    "        epoch_loss += loss.item()\n",
    "\n",
    "    loss_.append(epoch_loss)\n",
    "    print(f'Epoch: {epoch}, Loss: {epoch_loss}') # print the loss every epoch\n",
    "\n",
    "end_time = time.time()\n",
    "execution_time = end_time - start_time\n",
    "print(f\"Training completed in {execution_time} seconds\")\n",
    "\n",
    "# torch.save(net.state_dict(), project_path + 'covid19_net.pth')\n",
    "# net = Covid19Net()\n",
    "# net.load_state_dict(torch.load(project_path + 'covid19_net.pth'))\n",
    "\n",
    "torch.save(net.state_dict(), project_path + 'a_net.pth')\n",
    "net = ANET()\n",
    "net.load_state_dict(torch.load(project_path + 'a_net.pth'))\n",
    "\n",
    "correct = 0\n",
    "total = 0\n",
    "with torch.no_grad():\n",
    "    for data in test_loader:\n",
    "        images, labels = data\n",
    "        outputs = net(images)\n",
    "        _, predicted = torch.max(outputs.data, 1)   \n",
    "        total += labels.size(0)\n",
    "        correct += (predicted == labels).sum().item()\n",
    "\n",
    "\n",
    "\n",
    "print('Accuracy of the network on the %d test images: %.2f %%' % (total, 100 * correct / total))\n",
    "print('Training done on device:', device)"
   ]
  },
  {
   "cell_type": "code",
   "execution_count": 4,
   "metadata": {},
   "outputs": [
    {
     "data": {
      "image/png": "[encoded data removed]",
      "text/plain": [
       "<Figure size 640x480 with 1 Axes>"
      ]
     },
     "metadata": {},
     "output_type": "display_data"
    }
   ],
   "source": [
    "\n",
    "plt.yscale(\"log\")\n",
    "plt.plot(e_,loss_)\n",
    "plt.show()\n"
   ]
  },
  {
   "cell_type": "markdown",
   "metadata": {},
   "source": [
    "## # Train-Test Size\n",
    "We re-distribute the train-test split size from 80-20 to 70-30 first, to reduce time in training.\n",
    "That means from 2 class images we have, \n",
    "### 9947 Bacteria and 6221 Viral, we got\n",
    "### Bacteria Train : 6963, Viral : 4355 = 11318 Train Images\n",
    "### Bacteria Test : 2984, Viral : 1866 = 4850 Test Images\n",
    "\n",
    "![images](pneuCLASSreportIMG\\covid19net.png)\n",
    "\n",
    "## # Setting\n",
    "Start with covid19net from the tutorial to test the workflow\n",
    "\n",
    "Loss Function = CrossEntropyLoss\n",
    "\n",
    "Optimizer = Stochastic Gradient Descent\n",
    "\n",
    "# From the 0\n",
    "We start simple,\n",
    "\n",
    "\n",
    "## Epoch = 20, Learning Rate = 0.001\n",
    "momentum = 0.9"
   ]
  },
  {
   "cell_type": "markdown",
   "metadata": {},
   "source": [
    "![images](pneuCLASSreportIMG\\0_log.png)![images](pneuCLASSreportIMG\\0_plt.png)"
   ]
  },
  {
   "cell_type": "markdown",
   "metadata": {},
   "source": [
    "The loss plot line show shallow slope that is increasing after entering the epoch 13th, which mean we can increase Epoch and learning rate\n",
    "\n",
    "Accuracy is 99% on test set, which can happen, but with loss this high with CrossEntropyLoss, \n",
    "its mean that they maybe outlier that makes the loss value high"
   ]
  },
  {
   "cell_type": "markdown",
   "metadata": {},
   "source": [
    "*The accuracy on test set is good, but I think we still need to decrease loss further*\n",
    "\n",
    "## # 1 Increasing Epoch and Learning Rate\n",
    "\n",
    "#### *We want to see if the loss can continue declining if we increase the epoch to see if its starts to faltten out.*\n",
    "\n",
    "### Epoch = 40, Learning Rate = 0.0025 \n",
    "\n",
    "Then, Let's increase epoch to find if the loss slope declines \n"
   ]
  },
  {
   "cell_type": "markdown",
   "metadata": {},
   "source": [
    "![images](pneuCLASSreportIMG\\11_log.png)![images](pneuCLASSreportIMG\\11_plt.png)"
   ]
  },
  {
   "cell_type": "markdown",
   "metadata": {},
   "source": [
    "\n",
    "The loss plot still gradually declines but the slope starting to get more shallow, however we increase the epoch number to see if its flattening"
   ]
  },
  {
   "cell_type": "markdown",
   "metadata": {},
   "source": [
    "\n",
    "## # 1.2\n",
    "Increasing epoch and learning rate to find where the model stops learning\n",
    "### Epoch = 60, Learning Rate = 0.003\n"
   ]
  },
  {
   "cell_type": "markdown",
   "metadata": {},
   "source": [
    "Even after increasing the epoch to 60, the graph still continue declining"
   ]
  },
  {
   "cell_type": "markdown",
   "metadata": {},
   "source": [
    "![images](pneuCLASSreportIMG\\12_log.png)![images](pneuCLASSreportIMG\\12_plt.png)"
   ]
  },
  {
   "cell_type": "markdown",
   "metadata": {},
   "source": [
    "After try increasing more learning rate, the loss starts exploding."
   ]
  },
  {
   "cell_type": "markdown",
   "metadata": {},
   "source": [
    "## # 2 - Add Batch Normalization, Drop Out\n",
    "The model overfit or not? Let's regularize it by\n",
    "Normalize input of each layer, Dropout some neurons.\n",
    "### Epoch = 40, Learning Rate = 0.0025\n",
    "\n",
    "trying batch normalization, the loss bouncing up and down. and explode around 40 epoch, However, the loss never goes under 1.\n",
    "\n",
    "BatchNormalization may impact the scale on each layer input, which making the model have difficulties in learning the important features."
   ]
  },
  {
   "cell_type": "markdown",
   "metadata": {},
   "source": [
    "![images](pneuCLASSreportIMG\\21_log.png)![images](pneuCLASSreportIMG\\21_plt.png)"
   ]
  },
  {
   "cell_type": "markdown",
   "metadata": {},
   "source": [
    "Using Dropout probability at 0.1 before every activation in both layer.\n",
    "Performance is better than using BatchNormalization, loss may decrease more than no dropout at first, but have instability in learning, the loss goes up in some epoch."
   ]
  },
  {
   "cell_type": "markdown",
   "metadata": {},
   "source": [
    "![images](pneuCLASSreportIMG\\22_log.png)![images](pneuCLASSreportIMG\\22_plt.png)"
   ]
  },
  {
   "cell_type": "markdown",
   "metadata": {},
   "source": [
    "## # 3 - Add layer 3\n",
    "\n",
    "Add third layer into the neural network input size[3, 16, 32]\n",
    "### Epoch = 40, Learning rate = 0.0025\n",
    "First loss gradually decrease.\n",
    "But there is come jiggering in loss value below 1"
   ]
  },
  {
   "cell_type": "markdown",
   "metadata": {},
   "source": [
    "![images](pneuCLASSreportIMG\\lr001ep40tt7030_3layer.png)\n",
    "![images](pneuCLASSreportIMG\\lr001ep40tt7030lossplot_3layer.png)"
   ]
  },
  {
   "cell_type": "markdown",
   "metadata": {},
   "source": [
    "Things to change: \n",
    "1. Changing Loss Function to weighted cross-entropy loss, focal loss, or Dice loss.\n",
    "2. Differnet Optimizer Settings \n",
    "3. Change learning rate [DONE]\n",
    "4. Batch Norm (Normalizing input of each layer to ensure distribution of inputs to each layer )\n",
    "5. Dropout (Preventing overfit?)\n",
    "6. Data Augmentation (flip image horizontally and vertically)\n",
    "7. Use of pretrained models like VGGNet, ResNet etc.\n",
    "8. Segmentation\n",
    "- Maxpooling remove may increase compute time which may not be efficient to tradeoff"
   ]
  },
  {
   "cell_type": "markdown",
   "metadata": {},
   "source": []
  }
 ],
 "metadata": {
  "kernelspec": {
   "display_name": "dshpc",
   "language": "python",
   "name": "python3"
  },
  "language_info": {
   "codemirror_mode": {
    "name": "ipython",
    "version": 3
   },
   "file_extension": ".py",
   "mimetype": "text/x-python",
   "name": "python",
   "nbconvert_exporter": "python",
   "pygments_lexer": "ipython3",
   "version": "3.9.16"
  }
 },
 "nbformat": 4,
 "nbformat_minor": 2
}
