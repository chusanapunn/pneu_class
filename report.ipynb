{
 "cells": [
  {
   "cell_type": "markdown",
   "metadata": {},
   "source": [
    "## 1st Trial"
   ]
  },
  {
   "cell_type": "code",
   "execution_count": 1,
   "metadata": {},
   "outputs": [
    {
     "name": "stdout",
     "output_type": "stream",
     "text": [
      "Covid19Net(\n",
      "  (layer1): Sequential(\n",
      "    (0): Conv2d(3, 16, kernel_size=(3, 3), stride=(1, 1))\n",
      "    (1): ReLU()\n",
      "    (2): MaxPool2d(kernel_size=2, stride=2, padding=0, dilation=1, ceil_mode=False)\n",
      "  )\n",
      "  (layer2): Sequential(\n",
      "    (0): Conv2d(16, 32, kernel_size=(4, 4), stride=(1, 1))\n",
      "    (1): ReLU()\n",
      "    (2): MaxPool2d(kernel_size=2, stride=2, padding=0, dilation=1, ceil_mode=False)\n",
      "  )\n",
      "  (fc): Linear(in_features=93312, out_features=2, bias=True)\n",
      ")\n",
      "ANET(\n",
      "  (layer1): Sequential(\n",
      "    (0): Conv2d(3, 16, kernel_size=(3, 3), stride=(1, 1))\n",
      "    (1): BatchNorm2d(16, eps=1e-05, momentum=0.1, affine=True, track_running_stats=True)\n",
      "    (2): LeakyReLU(negative_slope=0.01)\n",
      "    (3): MaxPool2d(kernel_size=2, stride=2, padding=0, dilation=1, ceil_mode=False)\n",
      "  )\n",
      "  (layer2): Sequential(\n",
      "    (0): Conv2d(16, 32, kernel_size=(4, 4), stride=(1, 1))\n",
      "    (1): BatchNorm2d(32, eps=1e-05, momentum=0.1, affine=True, track_running_stats=True)\n",
      "    (2): LeakyReLU(negative_slope=0.01)\n",
      "    (3): MaxPool2d(kernel_size=2, stride=2, padding=0, dilation=1, ceil_mode=False)\n",
      "  )\n",
      "  (fc): Linear(in_features=93312, out_features=2, bias=True)\n",
      ")\n",
      "####################\n",
      "Device used:  cuda\n",
      "####################\n"
     ]
    }
   ],
   "source": [
    "import torch\n",
    "import numpy as np\n",
    "\n",
    "import torchvision\n",
    "from torch.utils.data import DataLoader\n",
    "from torch.backends import mps\n",
    "import torch.optim as optim\n",
    "import matplotlib.pyplot as plt\n",
    "import torch.nn as nn \n",
    "from net_covid19 import Covid19Net\n",
    "from net_a import ANET\n",
    "import time\n",
    "\n",
    "\n",
    "def imshow(img, title=None):\n",
    "  ''' function to show image '''\n",
    "  plt.imshow(img.permute(1, 2, 0))\n",
    "  if title is not None:\n",
    "    plt.title(title)\n",
    "  plt.show()\n",
    "\n",
    "# setup some path variables\n",
    "project_path = './'\n",
    "data_path = project_path + 'data/Pneumonia/X-Ray_70-30/'\n",
    "\n",
    "# select device to run the computations on\n",
    "if mps.is_available(): # MAcOS with Metal support\n",
    "    device = torch.device('mps')\n",
    "elif torch.cuda.is_available(): # Nvidia GPU\n",
    "    device = torch.device('cuda')\n",
    "else: # CPU\n",
    "    device = torch.device('cpu')\n",
    "\n",
    "# device = torch.device('cpu') # uncomment this line to run on CPU\n",
    "print(20*\"#\")\n",
    "print(\"Device used: \", device)\n",
    "print(20*\"#\")"
   ]
  },
  {
   "cell_type": "code",
   "execution_count": 20,
   "metadata": {},
   "outputs": [
    {
     "name": "stdout",
     "output_type": "stream",
     "text": [
      "['Bacterial', 'Viral']\n",
      "Number of images in train set: 11318\n",
      "Number of images in test set: 4849\n",
      "Shape of image tensors: torch.Size([16, 3, 224, 224])\n",
      "Shape of label tensors: torch.Size([16])\n",
      "Viral, Bacterial, Bacterial, Bacterial, Bacterial, Bacterial, Viral, Bacterial, Bacterial, Bacterial, Bacterial, Viral, Viral, Viral, Viral, Bacterial\n",
      "['Viral', 'Bacterial', 'Bacterial', 'Bacterial', 'Bacterial', 'Bacterial', 'Viral', 'Bacterial', 'Bacterial', 'Bacterial', 'Bacterial', 'Viral', 'Viral', 'Viral', 'Viral', 'Bacterial']\n",
      "Covid19Net(\n",
      "  (layer1): Sequential(\n",
      "    (0): Conv2d(3, 16, kernel_size=(3, 3), stride=(1, 1))\n",
      "    (1): ReLU()\n",
      "    (2): MaxPool2d(kernel_size=2, stride=2, padding=0, dilation=1, ceil_mode=False)\n",
      "  )\n",
      "  (layer2): Sequential(\n",
      "    (0): Conv2d(16, 32, kernel_size=(4, 4), stride=(1, 1))\n",
      "    (1): ReLU()\n",
      "    (2): MaxPool2d(kernel_size=2, stride=2, padding=0, dilation=1, ceil_mode=False)\n",
      "  )\n",
      "  (fc): Linear(in_features=93312, out_features=2, bias=True)\n",
      ")\n"
     ]
    },
    {
     "data": {
      "text/plain": [
       "Covid19Net(\n",
       "  (layer1): Sequential(\n",
       "    (0): Conv2d(3, 16, kernel_size=(3, 3), stride=(1, 1))\n",
       "    (1): ReLU()\n",
       "    (2): MaxPool2d(kernel_size=2, stride=2, padding=0, dilation=1, ceil_mode=False)\n",
       "  )\n",
       "  (layer2): Sequential(\n",
       "    (0): Conv2d(16, 32, kernel_size=(4, 4), stride=(1, 1))\n",
       "    (1): ReLU()\n",
       "    (2): MaxPool2d(kernel_size=2, stride=2, padding=0, dilation=1, ceil_mode=False)\n",
       "  )\n",
       "  (fc): Linear(in_features=93312, out_features=2, bias=True)\n",
       ")"
      ]
     },
     "execution_count": 20,
     "metadata": {},
     "output_type": "execute_result"
    }
   ],
   "source": [
    "\n",
    "# Define the transformations\n",
    "image_transform = torchvision.transforms.Compose([\n",
    "    torchvision.transforms.Resize((224, 224)),  # Resize the image to 224x224\n",
    "    torchvision.transforms.ToTensor() # Convert the image to a pytorch tensor\n",
    "])\n",
    "\n",
    "# Define train / test dataset\n",
    "train_dataset = torchvision.datasets.ImageFolder(data_path + 'train/', transform=image_transform)\n",
    "test_dataset = torchvision.datasets.ImageFolder(data_path + 'test/', transform=image_transform)\n",
    "\n",
    "# Check the classes labels\n",
    "class_labels = train_dataset.classes\n",
    "print(class_labels)\n",
    "\n",
    "# Check the number of samples in the train and test dataset\n",
    "print('Number of images in train set:', len(train_dataset))\n",
    "print('Number of images in test set:', len(test_dataset))\n",
    "\n",
    "# sample_idx = 240\n",
    "# sample_image, sample_label = train_dataset[sample_idx]\n",
    "# print(f'Image Shape: {sample_image.shape}')\n",
    "# print(f'Label: {class_labels[sample_label]}')\n",
    "\n",
    "# imshow(sample_image)\n",
    "# sample_image[0,:,:]\n",
    "\n",
    "batch_size = 16\n",
    "train_loader = DataLoader(train_dataset, batch_size=batch_size, shuffle=True, num_workers=0)\n",
    "test_loader = DataLoader(test_dataset, batch_size=batch_size, shuffle=False, num_workers=0)\n",
    "\n",
    "# get a batch of images and labels\n",
    "images, labels = next(iter(train_loader))\n",
    "print(f'Shape of image tensors: {images.shape}')\n",
    "print(f'Shape of label tensors: {labels.shape}')\n",
    "\n",
    "# Display the batch of images\n",
    "class_labels_string = ', '.join([class_labels[label] for label in labels]) # Create a string of class labels indexed by labels\n",
    "# imshow(torchvision.utils.make_grid(images), title = class_labels_string)\n",
    "# plt.title(class_labels_string)\n",
    "\n",
    "print(class_labels_string)\n",
    "print([class_labels[label] for label in labels])"
   ]
  },
  {
   "cell_type": "markdown",
   "metadata": {},
   "source": [
    "## Define Hyperparameter, loss function and Train."
   ]
  },
  {
   "cell_type": "code",
   "execution_count": 33,
   "metadata": {},
   "outputs": [
    {
     "name": "stdout",
     "output_type": "stream",
     "text": [
      "ANET(\n",
      "  (layer1): Sequential(\n",
      "    (0): Conv2d(3, 16, kernel_size=(3, 3), stride=(1, 1))\n",
      "    (1): BatchNorm2d(16, eps=1e-05, momentum=0.1, affine=True, track_running_stats=True)\n",
      "    (2): LeakyReLU(negative_slope=0.01)\n",
      "    (3): MaxPool2d(kernel_size=2, stride=2, padding=0, dilation=1, ceil_mode=False)\n",
      "  )\n",
      "  (layer2): Sequential(\n",
      "    (0): Conv2d(16, 32, kernel_size=(4, 4), stride=(1, 1))\n",
      "    (1): BatchNorm2d(32, eps=1e-05, momentum=0.1, affine=True, track_running_stats=True)\n",
      "    (2): LeakyReLU(negative_slope=0.01)\n",
      "    (3): MaxPool2d(kernel_size=2, stride=2, padding=0, dilation=1, ceil_mode=False)\n",
      "  )\n",
      "  (fc): Linear(in_features=93312, out_features=2, bias=True)\n",
      ")\n"
     ]
    },
    {
     "ename": "KeyboardInterrupt",
     "evalue": "",
     "output_type": "error",
     "traceback": [
      "\u001b[1;31m---------------------------------------------------------------------------\u001b[0m",
      "\u001b[1;31mKeyboardInterrupt\u001b[0m                         Traceback (most recent call last)",
      "\u001b[1;32mu:\\ZHAW\\DSH\\pneu_class\\report.ipynb Cell 5\u001b[0m line \u001b[0;36m1\n\u001b[0;32m     <a href='vscode-notebook-cell:/u%3A/ZHAW/DSH/pneu_class/report.ipynb#X15sZmlsZQ%3D%3D?line=16'>17</a>\u001b[0m \u001b[39mfor\u001b[39;00m epoch \u001b[39min\u001b[39;00m \u001b[39mrange\u001b[39m(num_epochs): \u001b[39m# one epoch is a complete pass through the train dataset\u001b[39;00m\n\u001b[0;32m     <a href='vscode-notebook-cell:/u%3A/ZHAW/DSH/pneu_class/report.ipynb#X15sZmlsZQ%3D%3D?line=17'>18</a>\u001b[0m     epoch_loss \u001b[39m=\u001b[39m \u001b[39m0.0\u001b[39m\n\u001b[1;32m---> <a href='vscode-notebook-cell:/u%3A/ZHAW/DSH/pneu_class/report.ipynb#X15sZmlsZQ%3D%3D?line=18'>19</a>\u001b[0m     \u001b[39mfor\u001b[39;00m batch_index, data \u001b[39min\u001b[39;00m \u001b[39menumerate\u001b[39m(train_loader):\n\u001b[0;32m     <a href='vscode-notebook-cell:/u%3A/ZHAW/DSH/pneu_class/report.ipynb#X15sZmlsZQ%3D%3D?line=19'>20</a>\u001b[0m         images, labels \u001b[39m=\u001b[39m data \n\u001b[0;32m     <a href='vscode-notebook-cell:/u%3A/ZHAW/DSH/pneu_class/report.ipynb#X15sZmlsZQ%3D%3D?line=20'>21</a>\u001b[0m         images, labels \u001b[39m=\u001b[39m images\u001b[39m.\u001b[39mto(device), labels\u001b[39m.\u001b[39mto(device)\n",
      "File \u001b[1;32mu:\\ZHAW\\DSH\\pneu_class\\dshpc\\lib\\site-packages\\torch\\utils\\data\\dataloader.py:631\u001b[0m, in \u001b[0;36m_BaseDataLoaderIter.__next__\u001b[1;34m(self)\u001b[0m\n\u001b[0;32m    628\u001b[0m \u001b[39mif\u001b[39;00m \u001b[39mself\u001b[39m\u001b[39m.\u001b[39m_sampler_iter \u001b[39mis\u001b[39;00m \u001b[39mNone\u001b[39;00m:\n\u001b[0;32m    629\u001b[0m     \u001b[39m# TODO(https://github.com/pytorch/pytorch/issues/76750)\u001b[39;00m\n\u001b[0;32m    630\u001b[0m     \u001b[39mself\u001b[39m\u001b[39m.\u001b[39m_reset()  \u001b[39m# type: ignore[call-arg]\u001b[39;00m\n\u001b[1;32m--> 631\u001b[0m data \u001b[39m=\u001b[39m \u001b[39mself\u001b[39;49m\u001b[39m.\u001b[39;49m_next_data()\n\u001b[0;32m    632\u001b[0m \u001b[39mself\u001b[39m\u001b[39m.\u001b[39m_num_yielded \u001b[39m+\u001b[39m\u001b[39m=\u001b[39m \u001b[39m1\u001b[39m\n\u001b[0;32m    633\u001b[0m \u001b[39mif\u001b[39;00m \u001b[39mself\u001b[39m\u001b[39m.\u001b[39m_dataset_kind \u001b[39m==\u001b[39m _DatasetKind\u001b[39m.\u001b[39mIterable \u001b[39mand\u001b[39;00m \\\n\u001b[0;32m    634\u001b[0m         \u001b[39mself\u001b[39m\u001b[39m.\u001b[39m_IterableDataset_len_called \u001b[39mis\u001b[39;00m \u001b[39mnot\u001b[39;00m \u001b[39mNone\u001b[39;00m \u001b[39mand\u001b[39;00m \\\n\u001b[0;32m    635\u001b[0m         \u001b[39mself\u001b[39m\u001b[39m.\u001b[39m_num_yielded \u001b[39m>\u001b[39m \u001b[39mself\u001b[39m\u001b[39m.\u001b[39m_IterableDataset_len_called:\n",
      "File \u001b[1;32mu:\\ZHAW\\DSH\\pneu_class\\dshpc\\lib\\site-packages\\torch\\utils\\data\\dataloader.py:675\u001b[0m, in \u001b[0;36m_SingleProcessDataLoaderIter._next_data\u001b[1;34m(self)\u001b[0m\n\u001b[0;32m    673\u001b[0m \u001b[39mdef\u001b[39;00m \u001b[39m_next_data\u001b[39m(\u001b[39mself\u001b[39m):\n\u001b[0;32m    674\u001b[0m     index \u001b[39m=\u001b[39m \u001b[39mself\u001b[39m\u001b[39m.\u001b[39m_next_index()  \u001b[39m# may raise StopIteration\u001b[39;00m\n\u001b[1;32m--> 675\u001b[0m     data \u001b[39m=\u001b[39m \u001b[39mself\u001b[39;49m\u001b[39m.\u001b[39;49m_dataset_fetcher\u001b[39m.\u001b[39;49mfetch(index)  \u001b[39m# may raise StopIteration\u001b[39;00m\n\u001b[0;32m    676\u001b[0m     \u001b[39mif\u001b[39;00m \u001b[39mself\u001b[39m\u001b[39m.\u001b[39m_pin_memory:\n\u001b[0;32m    677\u001b[0m         data \u001b[39m=\u001b[39m _utils\u001b[39m.\u001b[39mpin_memory\u001b[39m.\u001b[39mpin_memory(data, \u001b[39mself\u001b[39m\u001b[39m.\u001b[39m_pin_memory_device)\n",
      "File \u001b[1;32mu:\\ZHAW\\DSH\\pneu_class\\dshpc\\lib\\site-packages\\torch\\utils\\data\\_utils\\fetch.py:51\u001b[0m, in \u001b[0;36m_MapDatasetFetcher.fetch\u001b[1;34m(self, possibly_batched_index)\u001b[0m\n\u001b[0;32m     49\u001b[0m         data \u001b[39m=\u001b[39m \u001b[39mself\u001b[39m\u001b[39m.\u001b[39mdataset\u001b[39m.\u001b[39m__getitems__(possibly_batched_index)\n\u001b[0;32m     50\u001b[0m     \u001b[39melse\u001b[39;00m:\n\u001b[1;32m---> 51\u001b[0m         data \u001b[39m=\u001b[39m [\u001b[39mself\u001b[39m\u001b[39m.\u001b[39mdataset[idx] \u001b[39mfor\u001b[39;00m idx \u001b[39min\u001b[39;00m possibly_batched_index]\n\u001b[0;32m     52\u001b[0m \u001b[39melse\u001b[39;00m:\n\u001b[0;32m     53\u001b[0m     data \u001b[39m=\u001b[39m \u001b[39mself\u001b[39m\u001b[39m.\u001b[39mdataset[possibly_batched_index]\n",
      "File \u001b[1;32mu:\\ZHAW\\DSH\\pneu_class\\dshpc\\lib\\site-packages\\torch\\utils\\data\\_utils\\fetch.py:51\u001b[0m, in \u001b[0;36m<listcomp>\u001b[1;34m(.0)\u001b[0m\n\u001b[0;32m     49\u001b[0m         data \u001b[39m=\u001b[39m \u001b[39mself\u001b[39m\u001b[39m.\u001b[39mdataset\u001b[39m.\u001b[39m__getitems__(possibly_batched_index)\n\u001b[0;32m     50\u001b[0m     \u001b[39melse\u001b[39;00m:\n\u001b[1;32m---> 51\u001b[0m         data \u001b[39m=\u001b[39m [\u001b[39mself\u001b[39;49m\u001b[39m.\u001b[39;49mdataset[idx] \u001b[39mfor\u001b[39;00m idx \u001b[39min\u001b[39;00m possibly_batched_index]\n\u001b[0;32m     52\u001b[0m \u001b[39melse\u001b[39;00m:\n\u001b[0;32m     53\u001b[0m     data \u001b[39m=\u001b[39m \u001b[39mself\u001b[39m\u001b[39m.\u001b[39mdataset[possibly_batched_index]\n",
      "File \u001b[1;32mu:\\ZHAW\\DSH\\pneu_class\\dshpc\\lib\\site-packages\\torchvision\\datasets\\folder.py:229\u001b[0m, in \u001b[0;36mDatasetFolder.__getitem__\u001b[1;34m(self, index)\u001b[0m\n\u001b[0;32m    221\u001b[0m \u001b[39m\u001b[39m\u001b[39m\"\"\"\u001b[39;00m\n\u001b[0;32m    222\u001b[0m \u001b[39mArgs:\u001b[39;00m\n\u001b[0;32m    223\u001b[0m \u001b[39m    index (int): Index\u001b[39;00m\n\u001b[1;32m   (...)\u001b[0m\n\u001b[0;32m    226\u001b[0m \u001b[39m    tuple: (sample, target) where target is class_index of the target class.\u001b[39;00m\n\u001b[0;32m    227\u001b[0m \u001b[39m\"\"\"\u001b[39;00m\n\u001b[0;32m    228\u001b[0m path, target \u001b[39m=\u001b[39m \u001b[39mself\u001b[39m\u001b[39m.\u001b[39msamples[index]\n\u001b[1;32m--> 229\u001b[0m sample \u001b[39m=\u001b[39m \u001b[39mself\u001b[39;49m\u001b[39m.\u001b[39;49mloader(path)\n\u001b[0;32m    230\u001b[0m \u001b[39mif\u001b[39;00m \u001b[39mself\u001b[39m\u001b[39m.\u001b[39mtransform \u001b[39mis\u001b[39;00m \u001b[39mnot\u001b[39;00m \u001b[39mNone\u001b[39;00m:\n\u001b[0;32m    231\u001b[0m     sample \u001b[39m=\u001b[39m \u001b[39mself\u001b[39m\u001b[39m.\u001b[39mtransform(sample)\n",
      "File \u001b[1;32mu:\\ZHAW\\DSH\\pneu_class\\dshpc\\lib\\site-packages\\torchvision\\datasets\\folder.py:268\u001b[0m, in \u001b[0;36mdefault_loader\u001b[1;34m(path)\u001b[0m\n\u001b[0;32m    266\u001b[0m     \u001b[39mreturn\u001b[39;00m accimage_loader(path)\n\u001b[0;32m    267\u001b[0m \u001b[39melse\u001b[39;00m:\n\u001b[1;32m--> 268\u001b[0m     \u001b[39mreturn\u001b[39;00m pil_loader(path)\n",
      "File \u001b[1;32mu:\\ZHAW\\DSH\\pneu_class\\dshpc\\lib\\site-packages\\torchvision\\datasets\\folder.py:248\u001b[0m, in \u001b[0;36mpil_loader\u001b[1;34m(path)\u001b[0m\n\u001b[0;32m    246\u001b[0m \u001b[39mwith\u001b[39;00m \u001b[39mopen\u001b[39m(path, \u001b[39m\"\u001b[39m\u001b[39mrb\u001b[39m\u001b[39m\"\u001b[39m) \u001b[39mas\u001b[39;00m f:\n\u001b[0;32m    247\u001b[0m     img \u001b[39m=\u001b[39m Image\u001b[39m.\u001b[39mopen(f)\n\u001b[1;32m--> 248\u001b[0m     \u001b[39mreturn\u001b[39;00m img\u001b[39m.\u001b[39;49mconvert(\u001b[39m\"\u001b[39;49m\u001b[39mRGB\u001b[39;49m\u001b[39m\"\u001b[39;49m)\n",
      "File \u001b[1;32mu:\\ZHAW\\DSH\\pneu_class\\dshpc\\lib\\site-packages\\PIL\\Image.py:1087\u001b[0m, in \u001b[0;36mImage.convert\u001b[1;34m(self, mode, matrix, dither, palette, colors)\u001b[0m\n\u001b[0;32m   1084\u001b[0m     dither \u001b[39m=\u001b[39m Dither\u001b[39m.\u001b[39mFLOYDSTEINBERG\n\u001b[0;32m   1086\u001b[0m \u001b[39mtry\u001b[39;00m:\n\u001b[1;32m-> 1087\u001b[0m     im \u001b[39m=\u001b[39m \u001b[39mself\u001b[39;49m\u001b[39m.\u001b[39;49mim\u001b[39m.\u001b[39;49mconvert(mode, dither)\n\u001b[0;32m   1088\u001b[0m \u001b[39mexcept\u001b[39;00m \u001b[39mValueError\u001b[39;00m:\n\u001b[0;32m   1089\u001b[0m     \u001b[39mtry\u001b[39;00m:\n\u001b[0;32m   1090\u001b[0m         \u001b[39m# normalize source image and try again\u001b[39;00m\n",
      "\u001b[1;31mKeyboardInterrupt\u001b[0m: "
     ]
    }
   ],
   "source": [
    "# Define the model\n",
    "# net = Covid19Net()\n",
    "net = ANET()\n",
    "print(net)\n",
    "\n",
    "net.to(device)\n",
    "\n",
    "criterion = torch.nn.CrossEntropyLoss()\n",
    "optimizer = optim.SGD(net.parameters(), lr=0.003, momentum=0.9)\n",
    "\n",
    "num_epochs = 40 # loop over the dataset multiple times\n",
    "\n",
    "e_ = np.arange(1,num_epochs+1,1)\n",
    "loss_ = []\n",
    "\n",
    "start_time = time.time()\n",
    "for epoch in range(num_epochs): # one epoch is a complete pass through the train dataset\n",
    "    epoch_loss = 0.0\n",
    "    for batch_index, data in enumerate(train_loader):\n",
    "        images, labels = data \n",
    "        images, labels = images.to(device), labels.to(device)\n",
    "\n",
    "\n",
    "        optimizer.zero_grad()\n",
    "        outputs = net(images)\n",
    "        # outputs = outputs[:,0]\n",
    "        # print(outputs.shape)\n",
    "        # print(labels.shape)\n",
    "        loss = criterion(outputs, labels)\n",
    "        loss.backward()\n",
    "        optimizer.step()\n",
    "\n",
    "        epoch_loss += loss.item()\n",
    "\n",
    "    loss_.append(epoch_loss)\n",
    "    print(f'Epoch: {epoch}, Loss: {epoch_loss}') # print the loss every epoch\n",
    "\n",
    "end_time = time.time()\n",
    "execution_time = end_time - start_time\n",
    "print(f\"Training completed in {execution_time} seconds\")\n",
    "\n",
    "# torch.save(net.state_dict(), project_path + 'covid19_net.pth')\n",
    "# net = Covid19Net()\n",
    "# net.load_state_dict(torch.load(project_path + 'covid19_net.pth'))\n",
    "\n",
    "torch.save(net.state_dict(), project_path + 'a_net.pth')\n",
    "net = ANET()\n",
    "net.load_state_dict(torch.load(project_path + 'a_net.pth'))\n",
    "\n",
    "correct = 0\n",
    "total = 0\n",
    "with torch.no_grad():\n",
    "    for data in test_loader:\n",
    "        images, labels = data\n",
    "        outputs = net(images)\n",
    "        _, predicted = torch.max(outputs.data, 1)   \n",
    "        total += labels.size(0)\n",
    "        correct += (predicted == labels).sum().item()\n",
    "\n",
    "\n",
    "\n",
    "print('Accuracy of the network on the %d test images: %d %%' % (total, 100 * correct / total))\n",
    "print('Training done on device:', device)"
   ]
  },
  {
   "cell_type": "code",
   "execution_count": 30,
   "metadata": {},
   "outputs": [
    {
     "data": {
      "image/png": "[encoded data removed]",
      "text/plain": [
       "<Figure size 640x480 with 1 Axes>"
      ]
     },
     "metadata": {},
     "output_type": "display_data"
    }
   ],
   "source": [
    "\n",
    "plt.yscale(\"log\")\n",
    "plt.plot(e_,loss_)\n",
    "plt.show()\n"
   ]
  },
  {
   "cell_type": "markdown",
   "metadata": {},
   "source": [
    "## # Train-Test Size\n",
    "We re-distribute the train-test split size from 80-20 to 70-30 first, to reduce time in training.\n",
    "That means from 2 class images we have, \n",
    "### 9947 Bacteria and 6221 Viral, we got\n",
    "### Bacteria Train : 6963, Viral : 4355 = 11318 Train Images\n",
    "### Bacteria Test : 2984, Viral : 1866 = 4850 Test Images\n",
    "\n",
    "![images](pneuCLASSreportIMG\\covid19net.png)\n",
    "\n",
    "## # Setting\n",
    "Start with covid19net from the tutorial to test the workflow\n",
    "\n",
    "Loss Function = CrossEntropyLoss\n",
    "\n",
    "Optimizer = Stochastic Gradient Descent\n",
    "\n",
    "# From the 0\n",
    "We start simple,\n",
    "\n",
    "\n",
    "## Epoch = 20, Learning Rate = 0.001\n",
    "momentum = 0.9"
   ]
  },
  {
   "cell_type": "markdown",
   "metadata": {},
   "source": [
    "![images](pneuCLASSreportIMG\\0_log.png)![images](pneuCLASSreportIMG\\0_plt.png)"
   ]
  },
  {
   "cell_type": "markdown",
   "metadata": {},
   "source": [
    "The loss plot line show shallow slope that is increasing after entering the epoch 13th, which mean we can increase Epoch and learning rate\n",
    "\n",
    "Accuracy is 99% on test set, which can happen, but with loss this high with CrossEntropyLoss, \n",
    "its mean that they maybe outlier that makes the loss value high"
   ]
  },
  {
   "cell_type": "markdown",
   "metadata": {},
   "source": [
    "*The accuracy on test set is good, but I think we still need to decrease loss further*\n",
    "\n",
    "## # 1 Increasing Epoch and Learning Rate\n",
    "\n",
    "#### *We want to see if the loss can continue declining if we increase the epoch to see if its starts to faltten out.*\n",
    "\n",
    "### Epoch = 40, Learning Rate = 0.0025 \n",
    "\n",
    "Then, Let's increase epoch to find if the loss slope declines \n"
   ]
  },
  {
   "cell_type": "markdown",
   "metadata": {},
   "source": [
    "![images](pneuCLASSreportIMG\\11_log.png)![images](pneuCLASSreportIMG\\11_plt.png)"
   ]
  },
  {
   "cell_type": "markdown",
   "metadata": {},
   "source": [
    "\n",
    "The loss plot still gradually declines but the slope starting to get more shallow, however we increase the epoch number to see if its flattening"
   ]
  },
  {
   "cell_type": "markdown",
   "metadata": {},
   "source": [
    "\n",
    "## # 1.2\n",
    "Increasing epoch and learning rate to find where the model stops learning\n",
    "### Epoch = 60, Learning Rate = 0.003\n"
   ]
  },
  {
   "cell_type": "markdown",
   "metadata": {},
   "source": [
    "Even after increasing the epoch to 60, the graph still continue declining"
   ]
  },
  {
   "cell_type": "markdown",
   "metadata": {},
   "source": [
    "![images](pneuCLASSreportIMG\\12_log.png)![images](pneuCLASSreportIMG\\12_plt.png)"
   ]
  },
  {
   "cell_type": "markdown",
   "metadata": {},
   "source": [
    "After try increasing more learning rate, the loss starts exploding."
   ]
  },
  {
   "cell_type": "markdown",
   "metadata": {},
   "source": [
    "## # 2 - Add Batch Normalization, Drop Out\n",
    "The model overfit or not? Let's regularize it by\n",
    "Normalize input of each layer, Dropout some neurons.\n",
    "### Epoch = 40, Learning Rate = 0.0025\n",
    "\n",
    "trying batch normalization, the loss bouncing up and down. and explode around 40 epoch, However, the loss never goes under 1.\n",
    "\n",
    "BatchNormalization may impact the scale on each layer input, which making the model have difficulties in learning the important features."
   ]
  },
  {
   "cell_type": "markdown",
   "metadata": {},
   "source": [
    "![images](pneuCLASSreportIMG\\21_log.png)![images](pneuCLASSreportIMG\\21_plt.png)"
   ]
  },
  {
   "cell_type": "markdown",
   "metadata": {},
   "source": [
    "## # 3 - Add layer 3\n",
    "\n",
    "Add third layer into the neural network input size[3, 16, 32]\n",
    "### Epoch = 40, Learning rate = 0.0025\n",
    "First loss gradually decrease.\n",
    "But there is come jiggering in loss value below 1"
   ]
  },
  {
   "cell_type": "markdown",
   "metadata": {},
   "source": [
    "![images](pneuCLASSreportIMG\\lr001ep40tt7030_3layer.png)\n",
    "![images](pneuCLASSreportIMG\\lr001ep40tt7030lossplot_3layer.png)"
   ]
  },
  {
   "cell_type": "markdown",
   "metadata": {},
   "source": [
    "Things to change: \n",
    "1. Changing Loss Function to weighted cross-entropy loss, focal loss, or Dice loss.\n",
    "2. Differnet Optimizer Settings \n",
    "3. Change learning rate [DONE]\n",
    "4. Batch Norm (Normalizing input of each layer to ensure distribution of inputs to each layer )\n",
    "5. Dropout (Preventing overfit?)\n",
    "6. Data Augmentation (flip image horizontally and vertically)\n",
    "7. Use of pretrained models like VGGNet, ResNet etc.\n",
    "8. Segmentation\n",
    "- Maxpooling remove may increase compute time which may not be efficient to tradeoff"
   ]
  },
  {
   "cell_type": "markdown",
   "metadata": {},
   "source": []
  }
 ],
 "metadata": {
  "kernelspec": {
   "display_name": "dshpc",
   "language": "python",
   "name": "python3"
  },
  "language_info": {
   "codemirror_mode": {
    "name": "ipython",
    "version": 3
   },
   "file_extension": ".py",
   "mimetype": "text/x-python",
   "name": "python",
   "nbconvert_exporter": "python",
   "pygments_lexer": "ipython3",
   "version": "3.9.16"
  }
 },
 "nbformat": 4,
 "nbformat_minor": 2
}
