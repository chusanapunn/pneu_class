{
 "cells": [
  {
   "cell_type": "markdown",
   "metadata": {},
   "source": [
    "## 1st Trial"
   ]
  },
  {
   "cell_type": "markdown",
   "metadata": {},
   "source": [
    "using covid19net from the tutorial to test the workflow\n",
    "lossCriterion = CrossEntropyLoss\n",
    "Optimizer = SGD\n",
    "learning rate = 0.001\n",
    "momentum = 0.9\n",
    "epoch = 10\n",
    "1st epoch got loss ~900\n",
    "Finish with loss ~100\n",
    "traintime ~ 15 min\n",
    "Accuracy is 97% on test set, which can happen, but with loss this high, its not good"
   ]
  },
  {
   "cell_type": "markdown",
   "metadata": {},
   "source": [
    "Same covid19net\n",
    "changes\n",
    "-learning rate = 0.0025\n",
    "-epoch = 20\n",
    "\n",
    "1st epoch : loss = 984 ~ 1000\n",
    "Finish with : loss =  0.4189 ~ 0.42\n",
    "traintime ~ 30 min\n",
    "acc =98%"
   ]
  },
  {
   "cell_type": "markdown",
   "metadata": {},
   "source": [
    "I think we still need to decrease loss further\n",
    "\n",
    "Let's increase epoch to find if the loss slope declines \n",
    "-epoch =30\n",
    "1st loss 847 ~ 850\n",
    "Final loss 0.17 ~ 0.2\n",
    "traintime ~ \n",
    "acc=99%\n",
    "\n",
    "Let's try change train-test size to train with less data to improve training time a little bit"
   ]
  },
  {
   "cell_type": "markdown",
   "metadata": {},
   "source": [
    "## 2nd Trial \n",
    "\n",
    "-epoch 60\n",
    "-learning rate 0.0030\n",
    "\n",
    "loss 0.095\n",
    "acc 0.99\n"
   ]
  },
  {
   "cell_type": "markdown",
   "metadata": {},
   "source": [
    "try preprocessing - segmentation - transformation - SVM?"
   ]
  },
  {
   "cell_type": "markdown",
   "metadata": {},
   "source": [
    "## 3rd Trial\n",
    "\n",
    "trying batch normalization and dropout, the loss bouncing and jagger between 61 and 62"
   ]
  },
  {
   "cell_type": "markdown",
   "metadata": {},
   "source": [
    "## 4rd Trial\n",
    "\n",
    "Try LeakyRELU activation function"
   ]
  },
  {
   "cell_type": "markdown",
   "metadata": {},
   "source": [
    "Things to change: \n",
    "1. Changing Loss Function to weighted cross-entropy loss, focal loss, or Dice loss.\n",
    "2. Differnet Optimizer Settings \n",
    "3. Change learning rate "
   ]
  }
 ],
 "metadata": {
  "language_info": {
   "name": "python"
  }
 },
 "nbformat": 4,
 "nbformat_minor": 2
}
