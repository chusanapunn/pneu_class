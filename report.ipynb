{
 "cells": [
  {
   "cell_type": "markdown",
   "metadata": {},
   "source": [
    "## 1st Trial"
   ]
  },
  {
   "cell_type": "markdown",
   "metadata": {},
   "source": [
    "using covid19net from the tutorial to test the workflow\n",
    "lossCriterion = CrossEntropyLoss\n",
    "Optimizer = SGD\n",
    "learning rate = 0.001\n",
    "momentum = 0.9\n",
    "epoch = 10\n",
    "1st epoch got loss ~900\n",
    "Finish with loss ~100\n",
    "Accuracy is 97% on test set, which can happen, but with loss this high, its not good"
   ]
  },
  {
   "cell_type": "markdown",
   "metadata": {},
   "source": [
    "Same covid19net\n",
    "changes\n",
    "-learning rate = 0.0025\n",
    "-epoch = 20\n",
    "\n",
    "1st epoch : loss = 984 ~ 1000\n",
    "Finish with : loss =  "
   ]
  },
  {
   "cell_type": "markdown",
   "metadata": {},
   "source": [
    "## 2nd Trial \n"
   ]
  },
  {
   "cell_type": "markdown",
   "metadata": {},
   "source": [
    "Things to change: \n",
    "1. Changing Loss Function to weighted cross-entropy loss, focal loss, or Dice loss.\n",
    "2. Differnet Optimizer Settings \n",
    "3. Change learning rate "
   ]
  }
 ],
 "metadata": {
  "language_info": {
   "name": "python"
  }
 },
 "nbformat": 4,
 "nbformat_minor": 2
}
